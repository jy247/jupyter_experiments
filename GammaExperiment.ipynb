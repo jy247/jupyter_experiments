{
 "cells": [
  {
   "cell_type": "code",
   "execution_count": 331,
   "metadata": {},
   "outputs": [],
   "source": [
    "import numpy as np\n",
    "import pandas as pd\n",
    "import scipy.stats as si\n",
    "import matplotlib.pyplot as plt\n",
    "%matplotlib inline\n",
    "# import sympy as sy\n",
    "# import sympy.statistics as systats"
   ]
  },
  {
   "cell_type": "code",
   "execution_count": 332,
   "metadata": {},
   "outputs": [],
   "source": [
    "num_trials = 1000\n",
    "num_days = 63\n",
    "daily_trend = 0 #0.1 / 250\n",
    "annual_vol = 0.35\n",
    "daily_vol = annual_vol / 250 ** 0.5\n",
    "implied_vol = 0.15\n",
    "implied_daily_vol = implied_vol / 250 ** 0.5\n",
    "leverage = 3"
   ]
  },
  {
   "cell_type": "code",
   "execution_count": 333,
   "metadata": {},
   "outputs": [
    {
     "data": {
      "text/plain": [
       "0.0723488551423822"
      ]
     },
     "execution_count": 333,
     "metadata": {},
     "output_type": "execute_result"
    }
   ],
   "source": [
    "daily_returns = np.random.normal(loc=daily_trend, scale=daily_vol, size=(num_days, num_trials))\n",
    "#daily_returns = pd.DataFrame(daily_returns)\n",
    "path = np.add(daily_returns, 1).cumprod()\n",
    "#plt.plot(path)\n",
    "\n",
    "def calc_returns_unhedged(daily_returns):\n",
    "    end_values = np.cumprod(daily_returns + 1, axis=0)[-1] - 1\n",
    "    end_values[end_values < 0] = 0\n",
    "    return np.mean(end_values)\n",
    "    \n",
    "calc_returns_unhedged(daily_returns)"
   ]
  },
  {
   "cell_type": "code",
   "execution_count": 334,
   "metadata": {},
   "outputs": [
    {
     "data": {
      "text/plain": [
       "0.03003301983306067"
      ]
     },
     "execution_count": 334,
     "metadata": {},
     "output_type": "execute_result"
    }
   ],
   "source": [
    "def euro_vanilla(S, K, T, r, sigma, option = 'call'):\n",
    "    \n",
    "    #S: spot price\n",
    "    #K: strike price\n",
    "    #T: time to maturity\n",
    "    #r: interest rate\n",
    "    #sigma: volatility of underlying asset\n",
    "    \n",
    "    d1 = (np.log(S / K) + (r + 0.5 * sigma ** 2) * T) / (sigma * np.sqrt(T))\n",
    "    d2 = (np.log(S / K) + (r - 0.5 * sigma ** 2) * T) / (sigma * np.sqrt(T))\n",
    "    \n",
    "    if option == 'call':\n",
    "        result = (S * si.norm.cdf(d1, 0.0, 1.0) - K * np.exp(-r * T) * si.norm.cdf(d2, 0.0, 1.0))\n",
    "    if option == 'put':\n",
    "        result = (K * np.exp(-r * T) * si.norm.cdf(-d2, 0.0, 1.0) - S * si.norm.cdf(-d1, 0.0, 1.0))\n",
    "        \n",
    "    return result\n",
    "\n",
    "def wrapped_price(S, index):\n",
    "    return euro_vanilla(S, 1, num_days-index, daily_trend, implied_daily_vol)\n",
    "\n",
    "euro_vanilla(1, 1, num_days, daily_trend, implied_daily_vol)"
   ]
  },
  {
   "cell_type": "code",
   "execution_count": 335,
   "metadata": {},
   "outputs": [
    {
     "data": {
      "text/plain": [
       "0.5150165099165304"
      ]
     },
     "execution_count": 335,
     "metadata": {},
     "output_type": "execute_result"
    }
   ],
   "source": [
    "#S - spot price\n",
    "#K - strike price\n",
    "#T - num_days\n",
    "#r - risk free rate\n",
    "#sigma - daily vol\n",
    "\n",
    "\n",
    "def delta(S, K, T, r, sigma, option = 'call'):\n",
    "\n",
    "    d1 = (np.log(S / K) + (r + 0.5 * sigma ** 2) * T) / (sigma * np.sqrt(T))\n",
    "    \n",
    "    if option == 'call':\n",
    "        result = si.norm.cdf(d1, 0.0, 1.0)\n",
    "    if option == 'put':\n",
    "        result = -si.norm.cdf(-d1, 0.0, 1.0)\n",
    "        \n",
    "    return result\n",
    "\n",
    "def wrapped_delta(S, index):\n",
    "    return delta(S, 1, num_days-index, daily_trend, implied_daily_vol)\n",
    "\n",
    "intial_delta = delta(1, 1, num_days, daily_trend, implied_daily_vol)\n",
    "intial_delta"
   ]
  },
  {
   "cell_type": "code",
   "execution_count": 336,
   "metadata": {},
   "outputs": [
    {
     "name": "stdout",
     "output_type": "stream",
     "text": [
      "0.038078730881514804\n"
     ]
    },
    {
     "data": {
      "image/png": "[encoded data removed]",
      "text/plain": [
       "<Figure size 432x288 with 1 Axes>"
      ]
     },
     "metadata": {
      "needs_background": "light"
     },
     "output_type": "display_data"
    }
   ],
   "source": [
    "def calc_daily_hedged_pnls(daily_returns, hedge_percent=100):\n",
    "\n",
    "    daily_prices = np.cumprod(daily_returns + 1, axis=0) # length n\n",
    "    daily_changes = np.diff(daily_prices, axis=0) # length n - 1\n",
    "    #use this to provide index for, required for day count\n",
    "    x, y = np.meshgrid(np.arange(daily_changes.shape[0]), np.arange(daily_changes.shape[1]), indexing='ij')\n",
    "    \n",
    "    daily_deltas = np.array(list(map(wrapped_delta, daily_prices, x)))  * hedge_percent / 100\n",
    "    daily_delta_pnls = daily_changes * daily_deltas\n",
    "    \n",
    "    #wrapped_price\n",
    "    x, y = np.meshgrid(np.arange(daily_returns.shape[0]), np.arange(daily_returns.shape[1]), indexing='ij')\n",
    "    daily_option_price = np.array(list(map(wrapped_price, daily_prices, x)))\n",
    "    daily_pnl = np.diff(daily_option_price, axis=0)\n",
    "    \n",
    "#     plt.plot(daily_delta_pnls)\n",
    "#     plt.plot(daily_pnl)\n",
    "    \n",
    "    return daily_pnl - daily_delta_pnls\n",
    "\n",
    "daily_hedged_pnls = calc_daily_hedged_pnls(daily_returns, hedge_percent=100)\n",
    "final_hedged_pnls = daily_hedged_pnls.cumsum(axis=0)[-1]\n",
    "print(np.mean(final_hedged_pnls))\n",
    "plt.hist(final_hedged_pnls);"
   ]
  },
  {
   "cell_type": "code",
   "execution_count": 341,
   "metadata": {},
   "outputs": [
    {
     "name": "stdout",
     "output_type": "stream",
     "text": [
      "Mean leveraged ETF PnL: 0.0022878474265148885\n"
     ]
    },
    {
     "data": {
      "image/png": "[encoded data removed]",
      "text/plain": [
       "<Figure size 432x288 with 1 Axes>"
      ]
     },
     "metadata": {
      "needs_background": "light"
     },
     "output_type": "display_data"
    }
   ],
   "source": [
    "def calc_lev_etf_one_day_change(prior_day_position, one_day_performance):\n",
    "    prior_day_position = prior_day_position + prior_day_position * one_day_performance\n",
    "\n",
    "def calc_leveraged_etf_positions(daily_returns):\n",
    "    \n",
    "    leveraged_returns = daily_returns * leverage\n",
    "    for j in range(leveraged_returns.shape[1]):\n",
    "        leveraged_returns[0][j] += 1\n",
    "    \n",
    "    calc_lev_etf_one_day_change = np.frompyfunc(lambda x, y: x + y * x, 2, 1)\n",
    "    return np.array(calc_lev_etf_one_day_change\n",
    "                                    .accumulate(leveraged_returns, dtype=np.object, axis=0)\n",
    "                                    .astype(np.float))\n",
    "    \n",
    "    \n",
    "leveraged_returns_positions = calc_leveraged_etf_positions(daily_returns)\n",
    "#print(leveraged_returns_positions.shape)\n",
    "if daily_returns.shape[1] == 1:\n",
    "    plt.plot(leveraged_returns_positions.squeeze(), label=f'{leverage}x leveraged')\n",
    "    plt.plot(path, label='1x leveraged');\n",
    "    plt.legend()\n",
    "else:\n",
    "    leveraged_pnls = leveraged_returns_positions[-1,:]\n",
    "    plt.hist(leveraged_pnls, bins=30)\n",
    "    print('Mean leveraged ETF PnL: {}'.format(np.mean(leveraged_pnls) - 1))\n",
    "    "
   ]
  },
  {
   "cell_type": "code",
   "execution_count": 338,
   "metadata": {},
   "outputs": [
    {
     "data": {
      "text/plain": [
       "array([[1.3     ],\n",
       "       [0.91    ],\n",
       "       [1.183   ],\n",
       "       [0.8281  ],\n",
       "       [1.07653 ],\n",
       "       [0.753571]])"
      ]
     },
     "execution_count": 338,
     "metadata": {},
     "output_type": "execute_result"
    }
   ],
   "source": [
    "#x + y * x\n",
    "test_returns = np.array([[0.1], [-0.1], [0.1], [-0.1],[0.1], [-0.1],])\n",
    "calc_leveraged_etf_positions(test_returns)"
   ]
  },
  {
   "cell_type": "code",
   "execution_count": 339,
   "metadata": {},
   "outputs": [
    {
     "data": {
      "text/plain": [
       "array([[0.7     ],\n",
       "       [0.49    ],\n",
       "       [0.343   ],\n",
       "       [0.4459  ],\n",
       "       [0.57967 ],\n",
       "       [0.753571]])"
      ]
     },
     "execution_count": 339,
     "metadata": {},
     "output_type": "execute_result"
    }
   ],
   "source": [
    "test_returns = np.array([[-0.1], [-0.1], [-0.1], [0.1],[0.1], [0.1],])\n",
    "calc_leveraged_etf_positions(test_returns)"
   ]
  },
  {
   "cell_type": "code",
   "execution_count": 340,
   "metadata": {},
   "outputs": [
    {
     "data": {
      "text/plain": [
       "array([[1.3     ],\n",
       "       [1.69    ],\n",
       "       [2.197   ],\n",
       "       [1.5379  ],\n",
       "       [1.07653 ],\n",
       "       [0.753571]])"
      ]
     },
     "execution_count": 340,
     "metadata": {},
     "output_type": "execute_result"
    }
   ],
   "source": [
    "test_returns = np.array([[0.1], [0.1], [0.1], [-0.1],[-0.1], [-0.1],])\n",
    "calc_leveraged_etf_positions(test_returns)"
   ]
  },
  {
   "cell_type": "code",
   "execution_count": null,
   "metadata": {},
   "outputs": [],
   "source": []
  }
 ],
 "metadata": {
  "kernelspec": {
   "display_name": "Python 3",
   "language": "python",
   "name": "python3"
  },
  "language_info": {
   "codemirror_mode": {
    "name": "ipython",
    "version": 3
   },
   "file_extension": ".py",
   "mimetype": "text/x-python",
   "name": "python",
   "nbconvert_exporter": "python",
   "pygments_lexer": "ipython3",
   "version": "3.8.3"
  }
 },
 "nbformat": 4,
 "nbformat_minor": 4
}
